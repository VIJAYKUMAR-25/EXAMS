{
 "cells": [
  {
   "cell_type": "code",
   "execution_count": null,
   "id": "1789397c",
   "metadata": {},
   "outputs": [],
   "source": []
  },
  {
   "cell_type": "markdown",
   "id": "c42d1c7b",
   "metadata": {},
   "source": [
    "# ------- solution for Qn  2------------"
   ]
  },
  {
   "cell_type": "code",
   "execution_count": 2,
   "id": "e37be0ce",
   "metadata": {},
   "outputs": [],
   "source": [
    "def value(n):\n",
    "    d = { 'Square': lambda a : a**2, \n",
    "         'Cube': lambda a : a**3, \n",
    "         'Squareroot': lambda a : a**(1/2)}       \n",
    "    sum = 0\n",
    "    for key in d.keys():\n",
    "        sum += d[key](n)\n",
    "    return sum"
   ]
  },
  {
   "cell_type": "code",
   "execution_count": 4,
   "id": "d289e243",
   "metadata": {},
   "outputs": [
    {
     "name": "stdout",
     "output_type": "stream",
     "text": [
      "Enter User Input:6\n",
      "254.4494897427832\n"
     ]
    }
   ],
   "source": [
    "n=int(input(\"Enter User Input:\"))   \n",
    "print(value(n))"
   ]
  },
  {
   "cell_type": "markdown",
   "id": "4b8e6284",
   "metadata": {},
   "source": [
    "# -----solution for Qn 3--------"
   ]
  },
  {
   "cell_type": "code",
   "execution_count": 13,
   "id": "a1e1ceea",
   "metadata": {},
   "outputs": [
    {
     "name": "stdout",
     "output_type": "stream",
     "text": [
      "Sour Fruits: ['Lemon', 'Grapes', 'Kiwi', 'Orange', 'Limes']\n"
     ]
    }
   ],
   "source": [
    "fruits = (('Lemon','sour'),('DragonFruit', 'Sweet'),('Grapes','soUr'),('Kiwi','Sour'),('Apples', 'sweet'),('Orange', 'sour'),('Blueberries','sweet'),('Limes','Sour'))\n",
    "\n",
    "result=[]\n",
    "\n",
    "for j in fruits:\n",
    "    if(j[1].lower()=='sour'):\n",
    "        result.append(j[0])\n",
    " \n",
    "print(\"Sour Fruits:\", result)"
   ]
  },
  {
   "cell_type": "markdown",
   "id": "26c2c15d",
   "metadata": {},
   "source": [
    "# ----solution for Qn 4 --------"
   ]
  },
  {
   "cell_type": "code",
   "execution_count": 11,
   "id": "98338e98",
   "metadata": {},
   "outputs": [
    {
     "name": "stdout",
     "output_type": "stream",
     "text": [
      "['hOw', 'ARe']\n"
     ]
    }
   ],
   "source": [
    "lists = ['hello' , 'Dear' , 'hOw' , 'You' , 'ARe']\n",
    "\n",
    "output = []\n",
    "for i in lists:\n",
    "    if i[1].isupper():\n",
    "        output.append(i)\n",
    "print(output)"
   ]
  },
  {
   "cell_type": "markdown",
   "id": "a74354bf",
   "metadata": {},
   "source": [
    "# --------solution for Qn 5-------------"
   ]
  },
  {
   "cell_type": "code",
   "execution_count": 10,
   "id": "ef3fe8e5",
   "metadata": {},
   "outputs": [
    {
     "name": "stdout",
     "output_type": "stream",
     "text": [
      "{'John': 7.44, 'Shelly': 10.75, 'Marry': 5.79}\n"
     ]
    }
   ],
   "source": [
    "d = {'John':45, 'Shelly':65, 'Marry':35}\n",
    "\n",
    "calc_grav = lambda x: round((x / 9.81) * 1.622, 2)\n",
    "\n",
    "calc = lambda k: (k,  calc_grav(d[k]))\n",
    "\n",
    "r  = dict(calc(k) for k in d)\n",
    "\n",
    "print(r)"
   ]
  },
  {
   "cell_type": "markdown",
   "id": "0346335a",
   "metadata": {},
   "source": [
    "# -------- solution for Qn6 -------------"
   ]
  },
  {
   "cell_type": "code",
   "execution_count": 9,
   "id": "c9381812",
   "metadata": {},
   "outputs": [
    {
     "name": "stdout",
     "output_type": "stream",
     "text": [
      "Enter the input Strings:santa Maria Hello World Merry christmas tHank You\n",
      "****Output****\n",
      "\n",
      "Maria Hello World Merry You "
     ]
    }
   ],
   "source": [
    "s = input(\"Enter the input Strings:\")\n",
    "\n",
    "with_caps = []\n",
    "without_caps = []\n",
    "for word in s.split():\n",
    "    if word[0].islower():\n",
    "        without_caps.append(word)\n",
    "    else:\n",
    "        with_caps.append(word)\n",
    "\n",
    "result = with_caps\n",
    "print(\"****Output****\\n\")\n",
    "for i in result:\n",
    "    \n",
    "    print (i,end=\" \")"
   ]
  },
  {
   "cell_type": "markdown",
   "id": "4c8835af",
   "metadata": {},
   "source": [
    "# ------ solution for Qn 9---------"
   ]
  },
  {
   "cell_type": "code",
   "execution_count": 12,
   "id": "16e17116",
   "metadata": {},
   "outputs": [
    {
     "name": "stdout",
     "output_type": "stream",
     "text": [
      "['TRUE', 'FALSE', 'TRUE', 'TRUE', 'FALSE', 'FALSE']\n"
     ]
    }
   ],
   "source": [
    "inputs=[\"True\",\"FALse\",\"tRUe\",\"tRue\",\"False\",\"faLse\"]\n",
    "result = [x.upper() for x in inputs]\n",
    "print(result)"
   ]
  }
 ],
 "metadata": {
  "kernelspec": {
   "display_name": "Python 3 (ipykernel)",
   "language": "python",
   "name": "python3"
  },
  "language_info": {
   "codemirror_mode": {
    "name": "ipython",
    "version": 3
   },
   "file_extension": ".py",
   "mimetype": "text/x-python",
   "name": "python",
   "nbconvert_exporter": "python",
   "pygments_lexer": "ipython3",
   "version": "3.9.7"
  }
 },
 "nbformat": 4,
 "nbformat_minor": 5
}
